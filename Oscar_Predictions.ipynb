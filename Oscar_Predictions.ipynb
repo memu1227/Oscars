{
 "cells": [
  {
   "cell_type": "code",
   "execution_count": null,
   "metadata": {},
   "outputs": [],
   "source": [
    "import pandas as pd\n",
    "import numpy as np\n",
    "import matplotlib.pyplot as plt\n",
    "import seaborn as sns\n",
    "from wordcloud import WordCloud\n",
    "import matplotlib.ticker as mtick"
   ]
  },
  {
   "cell_type": "code",
   "execution_count": null,
   "metadata": {},
   "outputs": [],
   "source": [
    "# read in data file\n",
    "oscar_dataset = pd.read_csv(\"the_oscar_award.csv\")\n",
    "\n",
    "# inspect\n",
    "oscar_dataset.head()\n"
   ]
  },
  {
   "cell_type": "code",
   "execution_count": null,
   "metadata": {},
   "outputs": [],
   "source": [
    "\n",
    "#summarize\n",
    "oscar_dataset.info()"
   ]
  },
  {
   "cell_type": "code",
   "execution_count": null,
   "metadata": {},
   "outputs": [],
   "source": [
    "#count null values\n",
    "print(oscar_dataset.isna().sum())\n",
    "#drop null values\n",
    "oscars_clean = oscar_dataset.dropna(subset = \"film\")\n",
    "print(oscars_clean.isna().sum())\n",
    "\n",
    "#print unique values in category\n",
    "print(oscars_clean[\"category\"].unique())\n"
   ]
  },
  {
   "cell_type": "code",
   "execution_count": null,
   "metadata": {},
   "outputs": [],
   "source": [
    "\n",
    "#only include the categories from the website\n",
    "filtered_categories = ['ACTOR IN A LEADING ROLE','ACTRESS IN A LEADING ROLE','ACTOR IN A SUPPORTING ROLE','ACTRESS IN A SUPPORTING ROLE', 'ANIMATED FEATURE FILM', \n",
    "            'CINEMATOGRAPHY','COSTUME DESIGN','DIRECTING','DOCUMENTARY FEATURE FILM','FILM EDITING','INTERNATIONAL FEATURE FILM','MAKEUP AND HAIRSTYLING',\n",
    "            'MUSIC (ORIGINAL SCORE)','MUSIC (ORIGINAL SONG)','BEST PICTURE','PRODUCTION DESIGN','ANIMATED SHORT FILM','LIVE ACTION SHORT FILM',\n",
    "            'SOUND','VISUAL EFFECTS','WRITING (ADAPTED SCREENPLAY)','WRITING (ORIGINAL SCREENPLAY)']\n",
    "#filtered years to be more recent (past 10 yrs)\n",
    "filtered_years = [2012,2013,2014,2015,2016,2017,2018,2019,2020,2021,2022,2023,2024]\n",
    "\n",
    "\n",
    "# Create a new DataFrame with only filtered categories\n",
    "filtered_data = oscars_clean[oscars_clean['category'].isin(filtered_categories)]\n",
    "#filtered_data = filtered_data[filtered_data['year_film'].isin(filtered_years)]\n",
    "\n",
    "#checking\n",
    "print(filtered_data.head())\n",
    "filtered_data.isna().sum()\n"
   ]
  },
  {
   "cell_type": "code",
   "execution_count": null,
   "metadata": {},
   "outputs": [],
   "source": [
    "\n",
    "# Find the most frequent winners for each category\n",
    "top_winners_by_category = filtered_data.groupby(['category', 'name']).size().reset_index(name='count')\n",
    "top_winners_by_category = top_winners_by_category.sort_values(by=['category', 'count'], ascending=[True, False])\n",
    "top_winners_by_category = top_winners_by_category.drop_duplicates(subset='category', keep='first')\n",
    "\n",
    "# Plot the top winners by category\n",
    "plt.figure(figsize=(14, 8))\n",
    "sns.barplot(x='count', y='name', hue='category', data=top_winners_by_category.head(10), palette='viridis')\n",
    "plt.title('Top Oscar Winners by Category')\n",
    "plt.xlabel('Number of Wins')\n",
    "plt.ylabel('Winner')\n",
    "plt.show()\n"
   ]
  },
  {
   "cell_type": "code",
   "execution_count": null,
   "metadata": {},
   "outputs": [],
   "source": [
    "# Find the total nominations for each movie\n",
    "movie_nominations = filtered_data.groupby('film').size().reset_index(name='total_nominations')\n",
    "movie_nominations = movie_nominations.sort_values(by='total_nominations', ascending=False)\n",
    "\n",
    "# Plot the top movies with the most nominations\n",
    "plt.figure(figsize=(14, 8))\n",
    "sns.barplot(x='total_nominations', y='film', data=movie_nominations.head(10), palette='viridis')\n",
    "plt.title('Movies with the Most Nominations')\n",
    "plt.xlabel('Total Nominations')\n",
    "plt.ylabel('Movie')\n",
    "plt.show()\n",
    "\n"
   ]
  },
  {
   "cell_type": "code",
   "execution_count": null,
   "metadata": {},
   "outputs": [],
   "source": [
    "#import current oscar nominations\n",
    "oscars_2024 = pd.read_excel(\"Oscars_2024.xlsx\")\n",
    "\n",
    "#inspect\n",
    "oscars_2024.info()\n",
    "oscars_2024.head(10)\n"
   ]
  },
  {
   "cell_type": "code",
   "execution_count": null,
   "metadata": {},
   "outputs": [],
   "source": [
    "#visuals: Movies with most nominations\n",
    "movie_nominations_2024 = oscars_2024.groupby('film').size().reset_index(name='total_nominations')\n",
    "movie_nominations_2024 = movie_nominations_2024.sort_values(by='total_nominations', ascending=False)\n",
    "\n",
    "# Plot the top movies with the most nominations\n",
    "plt.figure(figsize=(14, 8))\n",
    "sns.barplot(x='total_nominations', y='film', data=movie_nominations_2024.head(10), palette='viridis')\n",
    "plt.title('Movies with the Most Nominations')\n",
    "plt.xlabel('Total Nominations')\n",
    "plt.ylabel('Movie')\n",
    "plt.show()\n"
   ]
  },
  {
   "cell_type": "code",
   "execution_count": null,
   "metadata": {},
   "outputs": [],
   "source": [
    "# Combine first and last names with an underscore\n",
    "oscars_2024['Full Name'] = oscars_2024['name'].str.replace(' ', '')\n",
    "\n",
    "# Generate word cloud for names\n",
    "def generate_wordcloud(text):\n",
    "    return WordCloud(width=800, height=400, background_color='white').generate(text)\n",
    "\n",
    "# Plot the word clouds\n",
    "plt.figure(figsize=(12, 6))\n",
    "\n",
    "# Plot the word cloud for names\n",
    "wordcloud_names = generate_wordcloud(' '.join(oscars_2024['Full Name']))\n",
    "# Replace underscores with spaces before displaying\n",
    "wordcloud_names.words_ = {key.replace('_', ' '): value for key, value in wordcloud_names.words_.items()}\n",
    "plt.subplot(1, 2, 1)\n",
    "plt.imshow(wordcloud_names, interpolation='bilinear')\n",
    "plt.title('Word Cloud for Names')\n",
    "plt.axis('off')\n",
    "\n",
    "# Plot the word cloud for genres\n",
    "wordcloud_genre = generate_wordcloud(' '.join(oscars_2024['genre']))\n",
    "plt.subplot(1, 2, 2)\n",
    "plt.imshow(wordcloud_genre, interpolation='bilinear')\n",
    "plt.title('Word Cloud for Genre')\n",
    "plt.axis('off')\n",
    "\n",
    "plt.show()"
   ]
  },
  {
   "cell_type": "code",
   "execution_count": null,
   "metadata": {},
   "outputs": [],
   "source": [
    "#checking which names appear in past decade, so who's been nominated before\n",
    "common_names = pd.merge(filtered_data['name'], oscars_2024['name'], how='inner')\n",
    "\n",
    "unique_names = common_names['name'].unique()\n",
    "\n",
    "unique_names = unique_names[:-3]\n",
    "print(unique_names)\n",
    "\n",
    "#checking whos won before\n",
    "common_names_winners = filtered_data[filtered_data['name'].isin(unique_names) & filtered_data['winner']]\n",
    "\n",
    "print(common_names_winners.to_string())"
   ]
  },
  {
   "cell_type": "code",
   "execution_count": null,
   "metadata": {},
   "outputs": [],
   "source": [
    "# Group by 'Category' and calculate the mean of 'Rotten Tomatoes' scores\n",
    "avg_scores = oscars_2024.groupby('category')['rotten tomatoes'].mean().sort_values(ascending=False)\n",
    "\n",
    "# Print or visualize the result\n",
    "print(avg_scores)"
   ]
  },
  {
   "cell_type": "code",
   "execution_count": null,
   "metadata": {},
   "outputs": [],
   "source": [
    "# Exclude NA values\n",
    "top_movies_by_rt = oscars_2024.dropna(subset=['rotten tomatoes'])\n",
    "\n",
    "# Sort the data by rotten tomatoes values in descending order to get the top movies\n",
    "top_movies_by_rt = top_movies_by_rt.sort_values(by='rotten tomatoes', ascending=False)\n",
    "\n",
    "# Plotting\n",
    "plt.figure(figsize=(12, 6))\n",
    "sns.barplot(x='rotten tomatoes', y='film', data=top_movies_by_rt, palette='viridis')\n",
    "\n",
    "# Set x-axis scale to percentage\n",
    "plt.gca().xaxis.set_major_formatter(mtick.PercentFormatter(1.0))\n",
    "\n",
    "plt.title('Top Movies with Highest Rotten Tomatoes Percentages (Excluding NA)')\n",
    "plt.xlabel('Rotten Tomatoes Score')\n",
    "plt.ylabel('Film')\n",
    "plt.show()"
   ]
  },
  {
   "cell_type": "code",
   "execution_count": null,
   "metadata": {},
   "outputs": [],
   "source": [
    "# Group by film and get the maximum Rotten Tomatoes score for each movie\n",
    "movies_rt = oscars_2024.groupby('film')['rotten tomatoes'].max().reset_index()\n",
    "\n",
    "# Sort the data by the maximum Rotten Tomatoes score in descending order\n",
    "movies_rt = movies_rt.sort_values(by='rotten tomatoes', ascending=False)\n",
    "\n",
    "# Plotting\n",
    "plt.figure(figsize=(12, 6))\n",
    "sns.barplot(x='rotten tomatoes', y='film', data=movies_rt.head(10), palette='viridis')\n",
    "\n",
    "# Set x-axis scale to percentage\n",
    "plt.gca().xaxis.set_major_formatter(mtick.PercentFormatter(1.0))\n",
    "\n",
    "plt.title('Top Movies with Highest Rotten Tomatoes Scores (Unique Movies)')\n",
    "plt.xlabel('Rotten Tomatoes Score')\n",
    "plt.ylabel('Film')\n",
    "plt.show()"
   ]
  },
  {
   "cell_type": "code",
   "execution_count": null,
   "metadata": {},
   "outputs": [],
   "source": [
    "# Group by film and get the maximum worldwide box office value for each movie\n",
    "movies_bo = oscars_2024.groupby('film')['worldwide box office'].max().reset_index()\n",
    "\n",
    "# Sort the data by the maximum worldwide box office value in descending order\n",
    "movies_bo = movies_bo.sort_values(by='worldwide box office', ascending=False)\n",
    "\n",
    "# Plotting\n",
    "plt.figure(figsize=(12, 6))\n",
    "sns.barplot(x='worldwide box office', y='film', data=movies_bo.head(10), palette='viridis')\n",
    "\n",
    "# Set x-axis scale to billions for better readability\n",
    "plt.gca().xaxis.set_major_formatter(mtick.StrMethodFormatter('${x:,.0f}'))\n",
    "\n",
    "plt.title('Top Movies with Highest Box Office Numbers (Unique Movies)')\n",
    "plt.xlabel('Worldwide Box Office')\n",
    "plt.ylabel('Film')\n",
    "plt.show()"
   ]
  },
  {
   "cell_type": "code",
   "execution_count": null,
   "metadata": {},
   "outputs": [],
   "source": [
    "na_values = oscars_2024[oscars_2024['rotten tomatoes'].isna()]\n",
    "\n",
    "#print(na_values)\n",
    "\n",
    "# Remove rows with NA values\n",
    "oscars_2024_cleaned = oscars_2024.dropna()\n",
    "oscars_2024_cleaned.drop(['Full Name'], axis=1, inplace=True)\n",
    "\n",
    "# Print \n",
    "print(oscars_2024_cleaned.to_string())"
   ]
  },
  {
   "cell_type": "code",
   "execution_count": null,
   "metadata": {},
   "outputs": [],
   "source": [
    "# Select relevant features\n",
    "features = ['category', 'name', 'film', 'worldwide box office', 'rotten tomatoes']\n",
    "\n",
    "#drop na \n",
    "data = oscars_2024_cleaned[features].dropna()\n",
    "\n",
    "# Rank nominees within each category based on box office and Rotten Tomatoes\n",
    "data['box office rank'] = data.groupby('category')['worldwide box office'].rank(ascending=False, method='min')\n",
    "data['rotten tomatoes rank'] = data.groupby('category')['rotten tomatoes'].rank(ascending=False, method='min')\n",
    "\n",
    "# Calculate a combined rank \n",
    "data['combined rank'] = data['box office rank'] + data['rotten tomatoes rank']\n",
    "\n",
    "# Sort the data by category and combined rank to find the top nominee in each category\n",
    "top_nominees = data.sort_values(by=['category', 'combined rank']).groupby('category').head(1)\n",
    "\n",
    "# Display the top nominees in each category\n",
    "# Format the numeric columns to display as integers\n",
    "top_nominees['box office rank'] = top_nominees['box office rank'].astype(int)\n",
    "top_nominees['rotten tomatoes rank'] = top_nominees['rotten tomatoes rank'].astype(int)\n",
    "top_nominees['combined rank'] = top_nominees['combined rank'].astype(int)\n",
    "\n",
    "# Display the formatted DataFrame\n",
    "print(top_nominees.to_string(index=False))\n",
    "\n"
   ]
  },
  {
   "cell_type": "code",
   "execution_count": null,
   "metadata": {},
   "outputs": [],
   "source": [
    "#drop columns\n",
    "na_values.drop(['genre', 'worldwide box office','rotten tomatoes','Full Name'], errors = 'ignore')\n",
    "\n",
    "na_values\n",
    "\n",
    "#add imdb reviews and letterboxd reviews\n",
    "na_values[\"imdb score\"] = [6.3,6.5,6.1,7.3,7.1,6.6,7.4,6.7,7.0,6.3,6.2,7.1,7.1,7.1,7.4]\n",
    "na_values[\"letterboxd score\"] = [2.9,3.3,3.1,3.8,3.8,3.1,3.8,3.3,3.5,2.6,2.5,3.6,3.6,3.5,3.8]\n",
    "\n",
    "na_values"
   ]
  },
  {
   "cell_type": "code",
   "execution_count": null,
   "metadata": {},
   "outputs": [],
   "source": [
    "# Rank nominees within each category based on IMDb and Letterboxd scores\n",
    "na_values['imdb rank'] = na_values.groupby('category')['imdb score'].rank(ascending=False, method='min')\n",
    "na_values['letterboxd rank'] = na_values.groupby('category')['letterboxd score'].rank(ascending=False, method='min')\n",
    "\n",
    "# Calculate a combined rank \n",
    "na_values['combined rank'] = na_values['imdb rank'] + na_values['letterboxd rank']\n",
    "\n",
    "# Sort the data by category and combined rank to find the top nominee in each category\n",
    "top_nominees_sf = na_values.sort_values(by=['category', 'combined rank']).groupby('category').head(1)\n",
    "\n",
    "# Display the top nominees in each category\n",
    "# Format the numeric columns to display as integers\n",
    "top_nominees_sf['imdb rank'] = top_nominees_sf['imdb rank'].astype(int)\n",
    "top_nominees_sf['letterboxd rank'] = top_nominees_sf['letterboxd rank'].astype(int)\n",
    "top_nominees_sf['combined rank'] = top_nominees_sf['combined rank'].astype(int)\n",
    "\n",
    "# Display the formatted DataFrame\n",
    "print(top_nominees_sf.to_string(index=False))"
   ]
  }
 ],
 "metadata": {
  "kernelspec": {
   "display_name": "Python 3",
   "language": "python",
   "name": "python3"
  },
  "language_info": {
   "codemirror_mode": {
    "name": "ipython",
    "version": 3
   },
   "file_extension": ".py",
   "mimetype": "text/x-python",
   "name": "python",
   "nbconvert_exporter": "python",
   "pygments_lexer": "ipython3",
   "version": "3.11.5"
  },
  "orig_nbformat": 4
 },
 "nbformat": 4,
 "nbformat_minor": 2
}
